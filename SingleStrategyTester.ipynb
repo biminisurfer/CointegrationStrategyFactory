{
 "cells": [
  {
   "cell_type": "code",
   "execution_count": 1,
   "id": "ef8bb36d",
   "metadata": {},
   "outputs": [],
   "source": [
    "from CointegrationBacktester import CointegrationBacktester\n",
    "import pandas as pd"
   ]
  },
  {
   "cell_type": "code",
   "execution_count": 2,
   "id": "3aa00524",
   "metadata": {},
   "outputs": [],
   "source": [
    "bt = CointegrationBacktester()"
   ]
  },
  {
   "cell_type": "code",
   "execution_count": null,
   "id": "2016c938",
   "metadata": {},
   "outputs": [],
   "source": []
  },
  {
   "cell_type": "code",
   "execution_count": 3,
   "id": "753e8622",
   "metadata": {},
   "outputs": [],
   "source": [
    "bt_data = {\n",
    "    \n",
    "    'stock_input': {'stocks': ['AME', 'EXPD', 'PH'], 'initial_vectors': [37.36408885,-42.11554514,-69.8386914]},\n",
    "    'cash': 5000,\n",
    "    'z_score_lookback': 75, \n",
    "    'z_score_open_threshold': 1, \n",
    "    'z_score_close_threshold': 0,\n",
    "    'k_ar_diff': 2,\n",
    "    'use_returns': True,\n",
    "    'use_kalman_filter': False,\n",
    "    'hurst_exponent_limit': 1,\n",
    "    'max_days_in_trade': 100,\n",
    "    'vector_lookback': 100,\n",
    "    'start_date': '2021-1-1', \n",
    "    'is_end_date': '2021-11-1',\n",
    "    'os_end_date': '2022-2-1',\n",
    "    'drawdown_filter_multiplier': 1\n",
    "}"
   ]
  },
  {
   "cell_type": "code",
   "execution_count": 4,
   "id": "0225fec4",
   "metadata": {},
   "outputs": [
    {
     "name": "stdout",
     "output_type": "stream",
     "text": [
      "AME\n",
      "EXPD\n",
      "PH\n"
     ]
    }
   ],
   "source": [
    "bt.configure(bt_data)"
   ]
  },
  {
   "cell_type": "code",
   "execution_count": 5,
   "id": "0d2c24cd",
   "metadata": {
    "scrolled": false
   },
   "outputs": [
    {
     "name": "stdout",
     "output_type": "stream",
     "text": [
      "Max Allowable DD in run_backtest_2: None\n",
      "Cash on hand to open position: 5000.0\n",
      "Close price for AME is 119.1999969482422, Vector is : 37.36408885, Value is: 4453.799276893851\n",
      "Close price for EXPD is 92.05999755859376, Vector is : -42.11554514, Value is: -3877.1569827672456\n",
      "Close price for PH is 272.0199890136719, Vector is : -69.8386914, Value is: -18997.52006735722\n",
      "Total abs open value: 27328.476327018318\n",
      "Vector multiplier: 0.12807153820499398\n",
      "Purchase 4.0 shares of AME at open price of 117.91999816894533 for value of 471.6799926757813\n",
      "Purchase -6.0 shares of EXPD at open price of 92.33999633789062 for value of 554.0399780273438\n",
      "Purchase -9.0 shares of PH at open price of 265.32000732421875 for value of 2387.8800659179688\n",
      "Total purchase cost: 3413.6000366210938\n",
      "Cash on hand to open position: 1484.8300476074219\n",
      "Close price for AME is 124.25, Vector is : 37.36408885, Value is: 4642.4880396125\n",
      "Close price for EXPD is 94.05999755859376, Vector is : -42.11554514, Value is: -3961.3880730472456\n",
      "Close price for PH is 280.8500061035156, Vector is : -69.8386914, Value is: -19614.196905951543\n",
      "Total abs open value: 28218.07301861129\n",
      "Vector multiplier: 0.03683387709145374\n",
      "Purchase 1.0 shares of AME at open price of 120.45999908447266 for value of 120.45999908447266\n",
      "Purchase -2.0 shares of EXPD at open price of 92.0 for value of 184.0\n",
      "Purchase -3.0 shares of PH at open price of 274.3699951171875 for value of 823.1099853515625\n",
      "Total purchase cost: 1127.5699844360352\n",
      "Cash on hand to open position: 4652.0\n",
      "Close price for AME is 130.64999389648438, Vector is : -37.36408885, Value is: -4881.6179802002\n",
      "Close price for EXPD is 120.5999984741211, Vector is : 42.11554514, Value is: 5079.134679620778\n",
      "Close price for PH is 280.989990234375, Vector is : 69.8386914, Value is: 19623.97321446753\n",
      "Total abs open value: 29584.725874288506\n",
      "Vector multiplier: 0.11007031174928249\n",
      "Purchase -4.0 shares of AME at open price of 132.11000061035156 for value of 528.4400024414062\n",
      "Purchase 5.0 shares of EXPD at open price of 121.37000274658205 for value of 606.8500137329103\n",
      "Purchase 8.0 shares of PH at open price of 280.94000244140625 for value of 2247.52001953125\n",
      "Total purchase cost: 3382.8100357055664\n",
      "Cash on hand to open position: 4733.0\n",
      "Close price for AME is 133.64999389648438, Vector is : 37.36408885, Value is: 4993.7102467502\n",
      "Close price for EXPD is 125.75, Vector is : -42.11554514, Value is: -5296.029801355\n",
      "Close price for PH is 301.739990234375, Vector is : -69.8386914, Value is: -21073.12606101753\n",
      "Total abs open value: 31362.86610912273\n",
      "Vector multiplier: 0.10563766680227915\n",
      "Purchase 3.0 shares of AME at open price of 133.72000122070312 for value of 401.1600036621094\n",
      "Purchase -5.0 shares of EXPD at open price of 124.29000091552734 for value of 621.4500045776367\n",
      "Purchase -8.0 shares of PH at open price of 300.3500061035156 for value of 2402.800048828125\n",
      "Total purchase cost: 3425.410057067871\n",
      "Cash on hand to open position: 1272.6199645996094\n",
      "Close price for AME is 133.22999572753906, Vector is : 37.36408885, Value is: 4978.01739784889\n",
      "Close price for EXPD is 125.7699966430664, Vector is : -42.11554514, Value is: -5296.871970878712\n",
      "Close price for PH is 303.82000732421875, Vector is : -69.8386914, Value is: -21218.391732661854\n",
      "Total abs open value: 31493.281101389457\n",
      "Vector multiplier: 0.028286477117191313\n",
      "Purchase 1.0 shares of AME at open price of 133.80999755859375 for value of 133.80999755859375\n",
      "Purchase -2.0 shares of EXPD at open price of 128.02999877929688 for value of 256.05999755859375\n",
      "Purchase -2.0 shares of PH at open price of 300.8500061035156 for value of 601.7000122070312\n",
      "Total purchase cost: 991.5700073242188\n",
      "Cash on hand to open position: 4796.0\n",
      "Close price for AME is 137.02000427246094, Vector is : 37.36408885, Value is: 5119.62761386361\n",
      "Close price for EXPD is 128.94000244140625, Vector is : -42.11554514, Value is: -5430.378493172755\n",
      "Close price for PH is 305.17999267578125, Vector is : -69.8386914, Value is: -21313.37132993815\n",
      "Total abs open value: 31863.377436974515\n",
      "Vector multiplier: 0.10536233977833996\n",
      "Purchase 3.0 shares of AME at open price of 137.5 for value of 412.5\n",
      "Purchase -5.0 shares of EXPD at open price of 128.92999267578125 for value of 644.6499633789062\n",
      "Purchase -8.0 shares of PH at open price of 302.0299987792969 for value of 2416.239990234375\n",
      "Total purchase cost: 3473.3899536132812\n",
      "Cash on hand to open position: 4892.0\n",
      "Close price for AME is 136.0500030517578, Vector is : -37.36408885, Value is: -5083.38440206865\n",
      "Close price for EXPD is 122.8000030517578, Vector is : 42.11554514, Value is: 5171.789071718444\n",
      "Close price for PH is 297.1499938964844, Vector is : 69.8386914, Value is: 20752.566723248456\n",
      "Total abs open value: 31007.74019703555\n",
      "Vector multiplier: 0.11043694181646248\n",
      "Purchase -4.0 shares of AME at open price of 136.9199981689453 for value of 547.6799926757812\n",
      "Purchase 5.0 shares of EXPD at open price of 123.8499984741211 for value of 619.2499923706055\n",
      "Purchase 8.0 shares of PH at open price of 298.67999267578125 for value of 2389.43994140625\n",
      "Total purchase cost: 3556.3699264526367\n",
      "Cash on hand to open position: 1344.7798614501953\n",
      "Close price for AME is 136.8000030517578, Vector is : -37.36408885, Value is: -5111.40746870615\n",
      "Close price for EXPD is 122.3000030517578, Vector is : 42.11554514, Value is: 5150.731299148443\n",
      "Close price for PH is 298.6499938964844, Vector is : 69.8386914, Value is: 20857.324760348456\n",
      "Total abs open value: 31119.46352820305\n",
      "Vector multiplier: 0.030249425802665608\n",
      "Purchase -1.0 shares of AME at open price of 136.10000610351562 for value of 136.10000610351562\n",
      "Purchase 2.0 shares of EXPD at open price of 123.13999938964844 for value of 246.27999877929688\n",
      "Purchase 3.0 shares of PH at open price of 296.8900146484375 for value of 890.6700439453125\n",
      "Total purchase cost: 1273.050048828125\n",
      "Cash on hand to open position: 4932.0\n",
      "Close price for AME is 135.39999389648438, Vector is : -37.36408885, Value is: -5059.0974022377\n",
      "Close price for EXPD is 123.56999969482422, Vector is : 42.11554514, Value is: 5204.2179000971555\n",
      "Close price for PH is 289.9100036621094, Vector is : 69.8386914, Value is: 20246.935279530928\n",
      "Total abs open value: 30510.250581865785\n",
      "Vector multiplier: 0.11315541282548444\n",
      "Purchase -4.0 shares of AME at open price of 135.57000732421875 for value of 542.280029296875\n",
      "Purchase 5.0 shares of EXPD at open price of 123.93000030517578 for value of 619.6500015258789\n",
      "Purchase 8.0 shares of PH at open price of 293.760009765625 for value of 2350.080078125\n",
      "Total purchase cost: 3512.010108947754\n",
      "Cash on hand to open position: 1447.6700439453125\n",
      "Close price for AME is 133.1300048828125, Vector is : -37.36408885, Value is: -4974.281331042341\n",
      "Close price for EXPD is 122.87999725341795, Vector is : 42.11554514, Value is: 5175.1580711294\n",
      "Close price for PH is 289.8999938964844, Vector is : 69.8386914, Value is: 20246.236210598458\n",
      "Total abs open value: 30395.6756127702\n",
      "Vector multiplier: 0.03333925008516573\n",
      "Purchase -1.0 shares of AME at open price of 134.5800018310547 for value of 134.5800018310547\n",
      "Purchase 2.0 shares of EXPD at open price of 123.80999755859376 for value of 247.61999511718753\n",
      "Purchase 3.0 shares of PH at open price of 289.3699951171875 for value of 868.1099853515625\n",
      "Total purchase cost: 1250.3099822998047\n",
      "Cash on hand to open position: 4939.0\n",
      "Close price for AME is 127.76000213623048, Vector is : -37.36408885, Value is: -4773.636071294306\n",
      "Close price for EXPD is 121.20999908447266, Vector is : 42.11554514, Value is: 5104.825187861467\n",
      "Close price for PH is 284.739990234375, Vector is : 69.8386914, Value is: 19885.86830721753\n",
      "Total abs open value: 29764.329566373304\n",
      "Vector multiplier: 0.11615581638720786\n",
      "Purchase -4.0 shares of AME at open price of 127.7699966430664 for value of 511.0799865722656\n",
      "Purchase 5.0 shares of EXPD at open price of 122.45999908447266 for value of 612.2999954223633\n",
      "Purchase 9.0 shares of PH at open price of 280.989990234375 for value of 2528.909912109375\n",
      "Total purchase cost: 3652.289894104004\n",
      "Cash on hand to open position: 1226.0698699951172\n",
      "Close price for AME is 127.44000244140624, Vector is : -37.36408885, Value is: -4761.67957426492\n",
      "Close price for EXPD is 121.3000030517578, Vector is : 42.11554514, Value is: 5108.615754008443\n",
      "Close price for PH is 279.4700012207031, Vector is : 69.8386914, Value is: 19517.819170810308\n",
      "Total abs open value: 29388.11449908367\n",
      "Vector multiplier: 0.029203946004203247\n",
      "Purchase -1.0 shares of AME at open price of 128.57000732421875 for value of 128.57000732421875\n",
      "Purchase 2.0 shares of EXPD at open price of 122.16999816894533 for value of 244.33999633789065\n",
      "Purchase 3.0 shares of PH at open price of 286.20001220703125 for value of 858.6000366210938\n",
      "Total purchase cost: 1231.5100402832031\n"
     ]
    },
    {
     "ename": "SystemExit",
     "evalue": "Total purchase cost of 1231.5100402832031 exceeds cash of 1226.0698699951172, bugging out",
     "output_type": "error",
     "traceback": [
      "An exception has occurred, use %tb to see the full traceback.\n",
      "\u001b[0;31mSystemExit\u001b[0m\u001b[0;31m:\u001b[0m Total purchase cost of 1231.5100402832031 exceeds cash of 1226.0698699951172, bugging out\n"
     ]
    },
    {
     "name": "stderr",
     "output_type": "stream",
     "text": [
      "/home/joseph/anaconda3/lib/python3.8/site-packages/IPython/core/interactiveshell.py:3445: UserWarning: To exit: use 'exit', 'quit', or Ctrl-D.\n",
      "  warn(\"To exit: use 'exit', 'quit', or Ctrl-D.\", stacklevel=1)\n"
     ]
    }
   ],
   "source": [
    "bt.run_backtest_2(verbose=False)"
   ]
  },
  {
   "cell_type": "code",
   "execution_count": null,
   "id": "fb8a9605",
   "metadata": {},
   "outputs": [],
   "source": [
    "bt.model_dataset.equity['2022-1-3']"
   ]
  },
  {
   "cell_type": "code",
   "execution_count": null,
   "id": "20539f56",
   "metadata": {},
   "outputs": [],
   "source": [
    "bt.broker.orders.drop(bt.broker.orders.index, inplace=True)"
   ]
  },
  {
   "cell_type": "code",
   "execution_count": null,
   "id": "b63025ec",
   "metadata": {},
   "outputs": [],
   "source": [
    "bt.broker.orders"
   ]
  },
  {
   "cell_type": "code",
   "execution_count": null,
   "id": "977940f2",
   "metadata": {},
   "outputs": [],
   "source": [
    "orders = bt.broker.orders"
   ]
  },
  {
   "cell_type": "code",
   "execution_count": null,
   "id": "08695e52",
   "metadata": {},
   "outputs": [],
   "source": [
    "for order in orders:\n",
    "    \n",
    "    print(orders[order])"
   ]
  },
  {
   "cell_type": "code",
   "execution_count": null,
   "id": "7d784a33",
   "metadata": {},
   "outputs": [],
   "source": [
    "orders"
   ]
  },
  {
   "cell_type": "code",
   "execution_count": null,
   "id": "b32cbcbd",
   "metadata": {},
   "outputs": [],
   "source": []
  }
 ],
 "metadata": {
  "kernelspec": {
   "display_name": "Python 3",
   "language": "python",
   "name": "python3"
  },
  "language_info": {
   "codemirror_mode": {
    "name": "ipython",
    "version": 3
   },
   "file_extension": ".py",
   "mimetype": "text/x-python",
   "name": "python",
   "nbconvert_exporter": "python",
   "pygments_lexer": "ipython3",
   "version": "3.8.8"
  }
 },
 "nbformat": 4,
 "nbformat_minor": 5
}
