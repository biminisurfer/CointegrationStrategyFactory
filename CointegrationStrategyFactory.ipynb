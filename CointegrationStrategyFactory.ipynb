{
 "cells": [
  {
   "cell_type": "code",
   "execution_count": 1,
   "id": "851b5e4b",
   "metadata": {},
   "outputs": [],
   "source": [
    "from CointegrationStrategyFactory import CointegrationStrategyFactory"
   ]
  },
  {
   "cell_type": "code",
   "execution_count": 2,
   "id": "b8af19fa",
   "metadata": {
    "scrolled": false
   },
   "outputs": [
    {
     "name": "stdout",
     "output_type": "stream",
     "text": [
      "Initializing Strategy Factory\n",
      "Running...\n",
      "Getting stocks\n",
      "Hunting for cointegrations\n",
      "Hunting for cointegration\n",
      "Testing k_ar_diff 1\n",
      "Finding best cointegrations\n",
      "[*********************100%***********************]  1 of 1 completed\n",
      "[*********************100%***********************]  1 of 1 completed\n",
      "[*********************100%***********************]  1 of 1 completed\n",
      "[*********************100%***********************]  1 of 1 completed\n",
      "[*********************100%***********************]  1 of 1 completed\n",
      "[*********************100%***********************]  1 of 1 completed\n",
      "[*********************100%***********************]  1 of 1 completed\n",
      "[*********************100%***********************]  1 of 1 completed\n",
      "[*********************100%***********************]  1 of 1 completed\n",
      "Testing for stationarity\n",
      "Found: 0 results using k_ar_diff = 1\n",
      "Testing k_ar_diff 2\n",
      "Finding best cointegrations\n",
      "Testing for stationarity\n",
      "Found: 0 results using k_ar_diff = 2\n",
      "Testing k_ar_diff 3\n",
      "Finding best cointegrations\n",
      "Testing for stationarity\n",
      "Found: 0 results using k_ar_diff = 3\n",
      "Testing k_ar_diff 4\n",
      "Finding best cointegrations\n",
      "Testing for stationarity\n",
      "Found: 0 results using k_ar_diff = 4\n",
      "Testing k_ar_diff 5\n",
      "Finding best cointegrations\n",
      "Testing for stationarity\n",
      "Found: 0 results using k_ar_diff = 5\n",
      "Testing k_ar_diff 6\n",
      "Finding best cointegrations\n",
      "Testing for stationarity\n",
      "Found: 0 results using k_ar_diff = 6\n",
      "Testing k_ar_diff 7\n",
      "Finding best cointegrations\n",
      "Testing for stationarity\n",
      "Found: 0 results using k_ar_diff = 7\n",
      "Testing k_ar_diff 8\n",
      "Finding best cointegrations\n",
      "Testing for stationarity\n",
      "Found: 0 results using k_ar_diff = 8\n",
      "Testing k_ar_diff 9\n",
      "Finding best cointegrations\n",
      "Testing for stationarity\n",
      "Found: 0 results using k_ar_diff = 9\n",
      "Testing k_ar_diff 10\n",
      "Finding best cointegrations\n",
      "Testing for stationarity\n",
      "Found: 0 results using k_ar_diff = 10\n",
      "Testing k_ar_diff 11\n",
      "Finding best cointegrations\n",
      "Testing for stationarity\n",
      "Found: 2 results using k_ar_diff = 11\n",
      "Testing k_ar_diff 12\n",
      "Finding best cointegrations\n",
      "Testing for stationarity\n",
      "Found: 2 results using k_ar_diff = 12\n",
      "Total hunter results: 4\n",
      "First stage filter - here we test all the combinations and filter\n",
      "Total Stock Combinations to Run Through: 4\n",
      "Total Iterations to Optimize: 4\n",
      "***** Total Iterations Found: 4 *****\n",
      "-------- Iteration: 0 ---------\n",
      "IEFA\n",
      "MINT\n",
      "SPDW\n",
      "Max Allowable DD in run_backtest_2: None\n",
      "\n",
      "-------- Iteration: 1 ---------\n",
      "IGSB\n",
      "IGIB\n",
      "GUNR\n",
      "Max Allowable DD in run_backtest_2: None\n",
      "\n",
      "-------- Iteration: 2 ---------\n",
      "BNDX\n",
      "EFG\n",
      "GUNR\n",
      "Max Allowable DD in run_backtest_2: None\n",
      "\n",
      "-------- Iteration: 3 ---------\n",
      "VCIT\n",
      "VCSH\n",
      "GUNR\n",
      "Max Allowable DD in run_backtest_2: None\n",
      "\n",
      "Backtesting best iterations - here we backtest the best iterations from the first stage filter\n"
     ]
    },
    {
     "ename": "SystemExit",
     "evalue": "No iterations passed the filter requirements",
     "output_type": "error",
     "traceback": [
      "An exception has occurred, use %tb to see the full traceback.\n",
      "\u001b[0;31mSystemExit\u001b[0m\u001b[0;31m:\u001b[0m No iterations passed the filter requirements\n"
     ]
    },
    {
     "name": "stderr",
     "output_type": "stream",
     "text": [
      "/home/joseph/anaconda3/lib/python3.8/site-packages/IPython/core/interactiveshell.py:3445: UserWarning: To exit: use 'exit', 'quit', or Ctrl-D.\n",
      "  warn(\"To exit: use 'exit', 'quit', or Ctrl-D.\", stacklevel=1)\n"
     ]
    }
   ],
   "source": [
    "# micro_energy\n",
    "# utilities\n",
    "# energy\n",
    "# consumer_discretionary\n",
    "# industrials\n",
    "# communication_services\n",
    "\n",
    "\n",
    "data = {\n",
    "    \n",
    "    \n",
    "    'z_score_lookback': [75],\n",
    "    'in_sample_start_date': '2021-10-1',\n",
    "    'in_sample_end_date': '2022-4-1',\n",
    "    'out_sample_end_date': '2022-5-13',\n",
    "    'number_of_stocks': 3,\n",
    "    'starting_cash': 3000,\n",
    "    'reward_risk_ratio': 70,\n",
    "    'minimum_number_of_trades': 15,\n",
    "    'sector': 'global_developed_markets',\n",
    "    'hurst_exponent_max': .4,\n",
    "    'p_value_max': 0.01,\n",
    "    'jt_pass_criteria': 0.95,\n",
    "    'drawdown_filter_multiplier': 1.05,\n",
    "    'max_allowable_optimization_combos': 1000,\n",
    "    'z_score_open_threshold': [1],\n",
    "    'z_score_close_threshold': [0],\n",
    "    \n",
    "}\n",
    "\n",
    "\n",
    "sf = CointegrationStrategyFactory(data)\n",
    "sf.run()\n",
    "sf.save('GlobalDevelopedMarkets')\n",
    "sf.print_is_summary()\n",
    "sf.print_os_summary()\n",
    "\n",
    "sf._best_iterations.plot.scatter(y='reward_risk_ratio', x='z_score_lookback')\n",
    "sf._best_iterations.plot.scatter(y='reward_risk_ratio', x='z_score_open_threshold')\n",
    "sf._best_iterations.plot.scatter(y='reward_risk_ratio', x='z_score_close_threshold')\n"
   ]
  },
  {
   "cell_type": "code",
   "execution_count": null,
   "id": "f3ab66ad",
   "metadata": {
    "scrolled": false
   },
   "outputs": [],
   "source": [
    "\n"
   ]
  },
  {
   "cell_type": "code",
   "execution_count": null,
   "id": "86ddd517",
   "metadata": {},
   "outputs": [],
   "source": [
    "len(sf.results)"
   ]
  },
  {
   "cell_type": "code",
   "execution_count": null,
   "id": "cd79667f",
   "metadata": {},
   "outputs": [],
   "source": [
    "sf._best_iteration_backtests[2].symbols"
   ]
  },
  {
   "cell_type": "code",
   "execution_count": null,
   "id": "d0efaeef",
   "metadata": {},
   "outputs": [],
   "source": [
    "sf._best_iteration_backtests[2].initial_vectors"
   ]
  },
  {
   "cell_type": "code",
   "execution_count": null,
   "id": "a0ca7509",
   "metadata": {},
   "outputs": [],
   "source": [
    "sf._get_results_summary()"
   ]
  },
  {
   "cell_type": "code",
   "execution_count": null,
   "id": "58a56dd7",
   "metadata": {},
   "outputs": [],
   "source": [
    "sf._hunter_results"
   ]
  },
  {
   "cell_type": "code",
   "execution_count": null,
   "id": "9b4ab1aa",
   "metadata": {},
   "outputs": [],
   "source": [
    "k_ar_diff = range(1,13)\n",
    "\n",
    "for k in k_ar_diff:\n",
    "    print(k)"
   ]
  },
  {
   "cell_type": "code",
   "execution_count": null,
   "id": "de155f4b",
   "metadata": {},
   "outputs": [],
   "source": [
    "sf._best_iteration_backtests[0].k_ar_diff"
   ]
  },
  {
   "cell_type": "code",
   "execution_count": null,
   "id": "15b917d5",
   "metadata": {},
   "outputs": [],
   "source": []
  }
 ],
 "metadata": {
  "kernelspec": {
   "display_name": "Python 3",
   "language": "python",
   "name": "python3"
  },
  "language_info": {
   "codemirror_mode": {
    "name": "ipython",
    "version": 3
   },
   "file_extension": ".py",
   "mimetype": "text/x-python",
   "name": "python",
   "nbconvert_exporter": "python",
   "pygments_lexer": "ipython3",
   "version": "3.8.8"
  }
 },
 "nbformat": 4,
 "nbformat_minor": 5
}
